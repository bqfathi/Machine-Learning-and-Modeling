{
 "cells": [
  {
   "cell_type": "code",
   "execution_count": 1,
   "id": "3ca1b7e9",
   "metadata": {},
   "outputs": [],
   "source": [
    "import seaborn as sns\n",
    "from sklearn.utils import shuffle\n",
    "Diamonds = shuffle(sns.load_dataset('diamonds'))"
   ]
  },
  {
   "cell_type": "code",
   "execution_count": 2,
   "id": "b6f3d9e1",
   "metadata": {},
   "outputs": [],
   "source": [
    "import pandas as pd\n",
    "import matplotlib.pyplot as plt\n",
    "from sklearn.linear_model import LinearRegression\n",
    "from sklearn.model_selection import train_test_split\n",
    "%matplotlib inline\n",
    "from sklearn import metrics\n",
    "import numpy as np"
   ]
  },
  {
   "cell_type": "code",
   "execution_count": 3,
   "id": "92f2d55e",
   "metadata": {},
   "outputs": [
    {
     "data": {
      "text/html": [
       "<div>\n",
       "<style scoped>\n",
       "    .dataframe tbody tr th:only-of-type {\n",
       "        vertical-align: middle;\n",
       "    }\n",
       "\n",
       "    .dataframe tbody tr th {\n",
       "        vertical-align: top;\n",
       "    }\n",
       "\n",
       "    .dataframe thead th {\n",
       "        text-align: right;\n",
       "    }\n",
       "</style>\n",
       "<table border=\"1\" class=\"dataframe\">\n",
       "  <thead>\n",
       "    <tr style=\"text-align: right;\">\n",
       "      <th></th>\n",
       "      <th>carat</th>\n",
       "      <th>cut</th>\n",
       "      <th>color</th>\n",
       "      <th>clarity</th>\n",
       "      <th>depth</th>\n",
       "      <th>table</th>\n",
       "      <th>price</th>\n",
       "      <th>x</th>\n",
       "      <th>y</th>\n",
       "      <th>z</th>\n",
       "    </tr>\n",
       "  </thead>\n",
       "  <tbody>\n",
       "    <tr>\n",
       "      <th>23574</th>\n",
       "      <td>1.32</td>\n",
       "      <td>Ideal</td>\n",
       "      <td>G</td>\n",
       "      <td>VS1</td>\n",
       "      <td>61.7</td>\n",
       "      <td>56.0</td>\n",
       "      <td>11584</td>\n",
       "      <td>7.04</td>\n",
       "      <td>7.07</td>\n",
       "      <td>4.35</td>\n",
       "    </tr>\n",
       "    <tr>\n",
       "      <th>49022</th>\n",
       "      <td>0.57</td>\n",
       "      <td>Ideal</td>\n",
       "      <td>H</td>\n",
       "      <td>VVS1</td>\n",
       "      <td>60.9</td>\n",
       "      <td>56.0</td>\n",
       "      <td>2052</td>\n",
       "      <td>5.38</td>\n",
       "      <td>5.36</td>\n",
       "      <td>3.27</td>\n",
       "    </tr>\n",
       "    <tr>\n",
       "      <th>13161</th>\n",
       "      <td>1.01</td>\n",
       "      <td>Very Good</td>\n",
       "      <td>D</td>\n",
       "      <td>SI1</td>\n",
       "      <td>61.6</td>\n",
       "      <td>60.0</td>\n",
       "      <td>5443</td>\n",
       "      <td>6.43</td>\n",
       "      <td>6.47</td>\n",
       "      <td>3.97</td>\n",
       "    </tr>\n",
       "    <tr>\n",
       "      <th>20039</th>\n",
       "      <td>0.30</td>\n",
       "      <td>Premium</td>\n",
       "      <td>H</td>\n",
       "      <td>SI1</td>\n",
       "      <td>59.3</td>\n",
       "      <td>59.0</td>\n",
       "      <td>421</td>\n",
       "      <td>4.36</td>\n",
       "      <td>4.38</td>\n",
       "      <td>2.59</td>\n",
       "    </tr>\n",
       "    <tr>\n",
       "      <th>28584</th>\n",
       "      <td>0.30</td>\n",
       "      <td>Premium</td>\n",
       "      <td>G</td>\n",
       "      <td>VS2</td>\n",
       "      <td>61.9</td>\n",
       "      <td>58.0</td>\n",
       "      <td>675</td>\n",
       "      <td>4.33</td>\n",
       "      <td>4.30</td>\n",
       "      <td>2.67</td>\n",
       "    </tr>\n",
       "  </tbody>\n",
       "</table>\n",
       "</div>"
      ],
      "text/plain": [
       "       carat        cut color clarity  depth  table  price     x     y     z\n",
       "23574   1.32      Ideal     G     VS1   61.7   56.0  11584  7.04  7.07  4.35\n",
       "49022   0.57      Ideal     H    VVS1   60.9   56.0   2052  5.38  5.36  3.27\n",
       "13161   1.01  Very Good     D     SI1   61.6   60.0   5443  6.43  6.47  3.97\n",
       "20039   0.30    Premium     H     SI1   59.3   59.0    421  4.36  4.38  2.59\n",
       "28584   0.30    Premium     G     VS2   61.9   58.0    675  4.33  4.30  2.67"
      ]
     },
     "execution_count": 3,
     "metadata": {},
     "output_type": "execute_result"
    }
   ],
   "source": [
    "Diamonds.head()"
   ]
  },
  {
   "cell_type": "code",
   "execution_count": 4,
   "id": "13b616a0",
   "metadata": {},
   "outputs": [
    {
     "data": {
      "text/plain": [
       "605      132\n",
       "802      127\n",
       "625      126\n",
       "828      125\n",
       "776      124\n",
       "        ... \n",
       "14615      1\n",
       "13201      1\n",
       "14421      1\n",
       "12089      1\n",
       "12430      1\n",
       "Name: price, Length: 11602, dtype: int64"
      ]
     },
     "execution_count": 4,
     "metadata": {},
     "output_type": "execute_result"
    }
   ],
   "source": [
    "Diamonds.price.value_counts()"
   ]
  },
  {
   "cell_type": "code",
   "execution_count": 5,
   "id": "5047514e",
   "metadata": {},
   "outputs": [
    {
     "name": "stdout",
     "output_type": "stream",
     "text": [
      "<class 'pandas.core.frame.DataFrame'>\n",
      "Int64Index: 53940 entries, 23574 to 19542\n",
      "Data columns (total 10 columns):\n",
      " #   Column   Non-Null Count  Dtype   \n",
      "---  ------   --------------  -----   \n",
      " 0   carat    53940 non-null  float64 \n",
      " 1   cut      53940 non-null  category\n",
      " 2   color    53940 non-null  category\n",
      " 3   clarity  53940 non-null  category\n",
      " 4   depth    53940 non-null  float64 \n",
      " 5   table    53940 non-null  float64 \n",
      " 6   price    53940 non-null  int64   \n",
      " 7   x        53940 non-null  float64 \n",
      " 8   y        53940 non-null  float64 \n",
      " 9   z        53940 non-null  float64 \n",
      "dtypes: category(3), float64(6), int64(1)\n",
      "memory usage: 3.4 MB\n"
     ]
    }
   ],
   "source": [
    "Diamonds.info()    #No null values. Need to recode cut, color and clarity. "
   ]
  },
  {
   "cell_type": "code",
   "execution_count": 6,
   "id": "b255c67d",
   "metadata": {},
   "outputs": [
    {
     "data": {
      "text/plain": [
       "Ideal        21551\n",
       "Premium      13791\n",
       "Very Good    12082\n",
       "Good          4906\n",
       "Fair          1610\n",
       "Name: cut, dtype: int64"
      ]
     },
     "execution_count": 6,
     "metadata": {},
     "output_type": "execute_result"
    }
   ],
   "source": [
    "Diamonds.cut.value_counts()"
   ]
  },
  {
   "cell_type": "code",
   "execution_count": 37,
   "id": "06fac111",
   "metadata": {},
   "outputs": [],
   "source": [
    "def cut_recode (series): \n",
    "    if series == \"Ideal\":\n",
    "        return 0\n",
    "    if series == \"Premium\":\n",
    "        return 1\n",
    "    if series == \"Very Good\":\n",
    "        return 2\n",
    "    if series == \"Good\":\n",
    "        return 3\n",
    "    if series == \"Fair\":\n",
    "        return 4\n",
    "    \n",
    "Diamonds['cutR']= Diamonds['cut'].apply(cut_recode)"
   ]
  },
  {
   "cell_type": "code",
   "execution_count": 38,
   "id": "4cfa5a1e",
   "metadata": {
    "scrolled": true
   },
   "outputs": [
    {
     "data": {
      "text/html": [
       "<div>\n",
       "<style scoped>\n",
       "    .dataframe tbody tr th:only-of-type {\n",
       "        vertical-align: middle;\n",
       "    }\n",
       "\n",
       "    .dataframe tbody tr th {\n",
       "        vertical-align: top;\n",
       "    }\n",
       "\n",
       "    .dataframe thead th {\n",
       "        text-align: right;\n",
       "    }\n",
       "</style>\n",
       "<table border=\"1\" class=\"dataframe\">\n",
       "  <thead>\n",
       "    <tr style=\"text-align: right;\">\n",
       "      <th></th>\n",
       "      <th>carat</th>\n",
       "      <th>cut</th>\n",
       "      <th>color</th>\n",
       "      <th>clarity</th>\n",
       "      <th>depth</th>\n",
       "      <th>table</th>\n",
       "      <th>price</th>\n",
       "      <th>x</th>\n",
       "      <th>y</th>\n",
       "      <th>z</th>\n",
       "      <th>cutR</th>\n",
       "      <th>colorR</th>\n",
       "      <th>clarityR</th>\n",
       "    </tr>\n",
       "  </thead>\n",
       "  <tbody>\n",
       "    <tr>\n",
       "      <th>23574</th>\n",
       "      <td>1</td>\n",
       "      <td>Ideal</td>\n",
       "      <td>G</td>\n",
       "      <td>VS1</td>\n",
       "      <td>61.7</td>\n",
       "      <td>56.0</td>\n",
       "      <td>11584</td>\n",
       "      <td>7.04</td>\n",
       "      <td>7.07</td>\n",
       "      <td>4.35</td>\n",
       "      <td>0</td>\n",
       "      <td>1</td>\n",
       "      <td>4</td>\n",
       "    </tr>\n",
       "    <tr>\n",
       "      <th>49022</th>\n",
       "      <td>0</td>\n",
       "      <td>Ideal</td>\n",
       "      <td>H</td>\n",
       "      <td>VVS1</td>\n",
       "      <td>60.9</td>\n",
       "      <td>56.0</td>\n",
       "      <td>2052</td>\n",
       "      <td>5.38</td>\n",
       "      <td>5.36</td>\n",
       "      <td>3.27</td>\n",
       "      <td>0</td>\n",
       "      <td>4</td>\n",
       "      <td>6</td>\n",
       "    </tr>\n",
       "    <tr>\n",
       "      <th>13161</th>\n",
       "      <td>1</td>\n",
       "      <td>Very Good</td>\n",
       "      <td>D</td>\n",
       "      <td>SI1</td>\n",
       "      <td>61.6</td>\n",
       "      <td>60.0</td>\n",
       "      <td>5443</td>\n",
       "      <td>6.43</td>\n",
       "      <td>6.47</td>\n",
       "      <td>3.97</td>\n",
       "      <td>2</td>\n",
       "      <td>5</td>\n",
       "      <td>1</td>\n",
       "    </tr>\n",
       "    <tr>\n",
       "      <th>20039</th>\n",
       "      <td>0</td>\n",
       "      <td>Premium</td>\n",
       "      <td>H</td>\n",
       "      <td>SI1</td>\n",
       "      <td>59.3</td>\n",
       "      <td>59.0</td>\n",
       "      <td>421</td>\n",
       "      <td>4.36</td>\n",
       "      <td>4.38</td>\n",
       "      <td>2.59</td>\n",
       "      <td>1</td>\n",
       "      <td>4</td>\n",
       "      <td>1</td>\n",
       "    </tr>\n",
       "    <tr>\n",
       "      <th>28584</th>\n",
       "      <td>0</td>\n",
       "      <td>Premium</td>\n",
       "      <td>G</td>\n",
       "      <td>VS2</td>\n",
       "      <td>61.9</td>\n",
       "      <td>58.0</td>\n",
       "      <td>675</td>\n",
       "      <td>4.33</td>\n",
       "      <td>4.30</td>\n",
       "      <td>2.67</td>\n",
       "      <td>1</td>\n",
       "      <td>1</td>\n",
       "      <td>2</td>\n",
       "    </tr>\n",
       "  </tbody>\n",
       "</table>\n",
       "</div>"
      ],
      "text/plain": [
       "       carat        cut color clarity  depth  table  price     x     y     z  \\\n",
       "23574      1      Ideal     G     VS1   61.7   56.0  11584  7.04  7.07  4.35   \n",
       "49022      0      Ideal     H    VVS1   60.9   56.0   2052  5.38  5.36  3.27   \n",
       "13161      1  Very Good     D     SI1   61.6   60.0   5443  6.43  6.47  3.97   \n",
       "20039      0    Premium     H     SI1   59.3   59.0    421  4.36  4.38  2.59   \n",
       "28584      0    Premium     G     VS2   61.9   58.0    675  4.33  4.30  2.67   \n",
       "\n",
       "      cutR  colorR  clarityR  \n",
       "23574    0       1         4  \n",
       "49022    0       4         6  \n",
       "13161    2       5         1  \n",
       "20039    1       4         1  \n",
       "28584    1       1         2  "
      ]
     },
     "execution_count": 38,
     "metadata": {},
     "output_type": "execute_result"
    }
   ],
   "source": [
    "Diamonds.head()"
   ]
  },
  {
   "cell_type": "code",
   "execution_count": 9,
   "id": "eccab91a",
   "metadata": {},
   "outputs": [
    {
     "data": {
      "text/plain": [
       "G    11292\n",
       "E     9797\n",
       "F     9542\n",
       "H     8304\n",
       "D     6775\n",
       "I     5422\n",
       "J     2808\n",
       "Name: color, dtype: int64"
      ]
     },
     "execution_count": 9,
     "metadata": {},
     "output_type": "execute_result"
    }
   ],
   "source": [
    "Diamonds.color.value_counts()"
   ]
  },
  {
   "cell_type": "code",
   "execution_count": 39,
   "id": "77386c85",
   "metadata": {},
   "outputs": [],
   "source": [
    "def color_recode (series):\n",
    "    if series == \"G\":\n",
    "        return 0\n",
    "    if series == \"E\":\n",
    "        return 1\n",
    "    if series == \"F\":\n",
    "        return 2\n",
    "    if series == \"H\":\n",
    "        return 3\n",
    "    if series == \"D\":\n",
    "        return 4\n",
    "    if series == \"I\":\n",
    "        return 5\n",
    "    if series == \"J\":\n",
    "        return 6\n",
    "    \n",
    "Diamonds['colorR']= Diamonds['color'].apply(color_recode)"
   ]
  },
  {
   "cell_type": "code",
   "execution_count": 40,
   "id": "e51f14d4",
   "metadata": {},
   "outputs": [
    {
     "data": {
      "text/plain": [
       "SI1     13065\n",
       "VS2     12258\n",
       "SI2      9194\n",
       "VS1      8171\n",
       "VVS2     5066\n",
       "VVS1     3655\n",
       "IF       1790\n",
       "I1        741\n",
       "Name: clarity, dtype: int64"
      ]
     },
     "execution_count": 40,
     "metadata": {},
     "output_type": "execute_result"
    }
   ],
   "source": [
    "Diamonds.clarity.value_counts()"
   ]
  },
  {
   "cell_type": "code",
   "execution_count": 41,
   "id": "73016056",
   "metadata": {},
   "outputs": [],
   "source": [
    "def clarity_recode (series):\n",
    "    if series == \"SI1\":\n",
    "        return 0\n",
    "    if series == \"VS2\":\n",
    "        return 1\n",
    "    if series == \"SI2\":\n",
    "        return 2\n",
    "    if series == \"VS1\":\n",
    "        return 3\n",
    "    if series == \"VVS2\":\n",
    "        return 4\n",
    "    if series == \"VVS1\":\n",
    "        return 5\n",
    "    if series == \"IF\":\n",
    "        return 6\n",
    "    if series == \"I1\":\n",
    "        return 7\n",
    "    \n",
    "Diamonds['clarityR']= Diamonds['clarity'].apply(clarity_recode)"
   ]
  },
  {
   "cell_type": "code",
   "execution_count": 42,
   "id": "d8e8edb4",
   "metadata": {},
   "outputs": [
    {
     "data": {
      "text/html": [
       "<div>\n",
       "<style scoped>\n",
       "    .dataframe tbody tr th:only-of-type {\n",
       "        vertical-align: middle;\n",
       "    }\n",
       "\n",
       "    .dataframe tbody tr th {\n",
       "        vertical-align: top;\n",
       "    }\n",
       "\n",
       "    .dataframe thead th {\n",
       "        text-align: right;\n",
       "    }\n",
       "</style>\n",
       "<table border=\"1\" class=\"dataframe\">\n",
       "  <thead>\n",
       "    <tr style=\"text-align: right;\">\n",
       "      <th></th>\n",
       "      <th>carat</th>\n",
       "      <th>cut</th>\n",
       "      <th>color</th>\n",
       "      <th>clarity</th>\n",
       "      <th>depth</th>\n",
       "      <th>table</th>\n",
       "      <th>price</th>\n",
       "      <th>x</th>\n",
       "      <th>y</th>\n",
       "      <th>z</th>\n",
       "      <th>cutR</th>\n",
       "      <th>colorR</th>\n",
       "      <th>clarityR</th>\n",
       "    </tr>\n",
       "  </thead>\n",
       "  <tbody>\n",
       "    <tr>\n",
       "      <th>23574</th>\n",
       "      <td>1</td>\n",
       "      <td>Ideal</td>\n",
       "      <td>G</td>\n",
       "      <td>VS1</td>\n",
       "      <td>61.7</td>\n",
       "      <td>56.0</td>\n",
       "      <td>11584</td>\n",
       "      <td>7.04</td>\n",
       "      <td>7.07</td>\n",
       "      <td>4.35</td>\n",
       "      <td>0</td>\n",
       "      <td>0</td>\n",
       "      <td>3</td>\n",
       "    </tr>\n",
       "    <tr>\n",
       "      <th>49022</th>\n",
       "      <td>0</td>\n",
       "      <td>Ideal</td>\n",
       "      <td>H</td>\n",
       "      <td>VVS1</td>\n",
       "      <td>60.9</td>\n",
       "      <td>56.0</td>\n",
       "      <td>2052</td>\n",
       "      <td>5.38</td>\n",
       "      <td>5.36</td>\n",
       "      <td>3.27</td>\n",
       "      <td>0</td>\n",
       "      <td>3</td>\n",
       "      <td>5</td>\n",
       "    </tr>\n",
       "    <tr>\n",
       "      <th>13161</th>\n",
       "      <td>1</td>\n",
       "      <td>Very Good</td>\n",
       "      <td>D</td>\n",
       "      <td>SI1</td>\n",
       "      <td>61.6</td>\n",
       "      <td>60.0</td>\n",
       "      <td>5443</td>\n",
       "      <td>6.43</td>\n",
       "      <td>6.47</td>\n",
       "      <td>3.97</td>\n",
       "      <td>2</td>\n",
       "      <td>4</td>\n",
       "      <td>0</td>\n",
       "    </tr>\n",
       "    <tr>\n",
       "      <th>20039</th>\n",
       "      <td>0</td>\n",
       "      <td>Premium</td>\n",
       "      <td>H</td>\n",
       "      <td>SI1</td>\n",
       "      <td>59.3</td>\n",
       "      <td>59.0</td>\n",
       "      <td>421</td>\n",
       "      <td>4.36</td>\n",
       "      <td>4.38</td>\n",
       "      <td>2.59</td>\n",
       "      <td>1</td>\n",
       "      <td>3</td>\n",
       "      <td>0</td>\n",
       "    </tr>\n",
       "    <tr>\n",
       "      <th>28584</th>\n",
       "      <td>0</td>\n",
       "      <td>Premium</td>\n",
       "      <td>G</td>\n",
       "      <td>VS2</td>\n",
       "      <td>61.9</td>\n",
       "      <td>58.0</td>\n",
       "      <td>675</td>\n",
       "      <td>4.33</td>\n",
       "      <td>4.30</td>\n",
       "      <td>2.67</td>\n",
       "      <td>1</td>\n",
       "      <td>0</td>\n",
       "      <td>1</td>\n",
       "    </tr>\n",
       "  </tbody>\n",
       "</table>\n",
       "</div>"
      ],
      "text/plain": [
       "       carat        cut color clarity  depth  table  price     x     y     z  \\\n",
       "23574      1      Ideal     G     VS1   61.7   56.0  11584  7.04  7.07  4.35   \n",
       "49022      0      Ideal     H    VVS1   60.9   56.0   2052  5.38  5.36  3.27   \n",
       "13161      1  Very Good     D     SI1   61.6   60.0   5443  6.43  6.47  3.97   \n",
       "20039      0    Premium     H     SI1   59.3   59.0    421  4.36  4.38  2.59   \n",
       "28584      0    Premium     G     VS2   61.9   58.0    675  4.33  4.30  2.67   \n",
       "\n",
       "      cutR colorR clarityR  \n",
       "23574    0      0        3  \n",
       "49022    0      3        5  \n",
       "13161    2      4        0  \n",
       "20039    1      3        0  \n",
       "28584    1      0        1  "
      ]
     },
     "execution_count": 42,
     "metadata": {},
     "output_type": "execute_result"
    }
   ],
   "source": [
    "Diamonds.head()  # Nice, but now they need to be integers. "
   ]
  },
  {
   "cell_type": "code",
   "execution_count": 43,
   "id": "e68259ac",
   "metadata": {},
   "outputs": [],
   "source": [
    "Diamonds['cutR']= Diamonds['cutR'].astype(int)\n",
    "Diamonds['colorR']= Diamonds['colorR'].astype(int)\n",
    "Diamonds['clarityR']= Diamonds['clarityR'].astype(int)\n",
    "Diamonds['carat']= Diamonds['carat'].astype(int)"
   ]
  },
  {
   "cell_type": "code",
   "execution_count": 44,
   "id": "1544ee94",
   "metadata": {},
   "outputs": [
    {
     "name": "stdout",
     "output_type": "stream",
     "text": [
      "<class 'pandas.core.frame.DataFrame'>\n",
      "Int64Index: 53940 entries, 23574 to 19542\n",
      "Data columns (total 13 columns):\n",
      " #   Column    Non-Null Count  Dtype   \n",
      "---  ------    --------------  -----   \n",
      " 0   carat     53940 non-null  int64   \n",
      " 1   cut       53940 non-null  category\n",
      " 2   color     53940 non-null  category\n",
      " 3   clarity   53940 non-null  category\n",
      " 4   depth     53940 non-null  float64 \n",
      " 5   table     53940 non-null  float64 \n",
      " 6   price     53940 non-null  int64   \n",
      " 7   x         53940 non-null  float64 \n",
      " 8   y         53940 non-null  float64 \n",
      " 9   z         53940 non-null  float64 \n",
      " 10  cutR      53940 non-null  int64   \n",
      " 11  colorR    53940 non-null  int64   \n",
      " 12  clarityR  53940 non-null  int64   \n",
      "dtypes: category(3), float64(5), int64(5)\n",
      "memory usage: 4.7 MB\n"
     ]
    }
   ],
   "source": [
    "Diamonds.info()  #All set as integers. "
   ]
  },
  {
   "cell_type": "code",
   "execution_count": 16,
   "id": "6b6bc895",
   "metadata": {},
   "outputs": [
    {
     "data": {
      "text/plain": [
       "carat       0\n",
       "cut         0\n",
       "color       0\n",
       "clarity     0\n",
       "depth       0\n",
       "table       0\n",
       "price       0\n",
       "x           0\n",
       "y           0\n",
       "z           0\n",
       "cutR        0\n",
       "colorR      0\n",
       "clarityR    0\n",
       "dtype: int64"
      ]
     },
     "execution_count": 16,
     "metadata": {},
     "output_type": "execute_result"
    }
   ],
   "source": [
    "Diamonds.isna().sum()"
   ]
  },
  {
   "cell_type": "markdown",
   "id": "0a9a5fb5",
   "metadata": {},
   "source": [
    "## Define x and y variables. "
   ]
  },
  {
   "cell_type": "code",
   "execution_count": 45,
   "id": "e2df635d",
   "metadata": {},
   "outputs": [],
   "source": [
    "x = Diamonds[['carat', 'cutR', 'colorR', 'clarityR' ]]"
   ]
  },
  {
   "cell_type": "code",
   "execution_count": 46,
   "id": "8fbcc3bf",
   "metadata": {},
   "outputs": [],
   "source": [
    "y = Diamonds['price']"
   ]
  },
  {
   "cell_type": "markdown",
   "id": "98dc6ec3",
   "metadata": {},
   "source": [
    "## Train/Test Split Data"
   ]
  },
  {
   "cell_type": "code",
   "execution_count": 47,
   "id": "6e6cbd84",
   "metadata": {},
   "outputs": [],
   "source": [
    "x_train, x_test, y_train, y_test = train_test_split(x,y, test_size= .4, random_state=101)"
   ]
  },
  {
   "cell_type": "code",
   "execution_count": 48,
   "id": "b17e6f33",
   "metadata": {},
   "outputs": [
    {
     "name": "stdout",
     "output_type": "stream",
     "text": [
      "(32364, 4) (32364,)\n",
      "(21576, 4) (21576,)\n"
     ]
    }
   ],
   "source": [
    "print(x_train.shape, y_train.shape)\n",
    "print(x_test.shape, y_test.shape)\n",
    "\n",
    "#in the x_train dataset, there are 32364 rows and 4 columns and in the x_test dataset, there are 21567 rows and 4 columns"
   ]
  },
  {
   "cell_type": "markdown",
   "id": "8bcb60f1",
   "metadata": {},
   "source": [
    "## Create the Model"
   ]
  },
  {
   "cell_type": "code",
   "execution_count": 49,
   "id": "859369ee",
   "metadata": {},
   "outputs": [
    {
     "data": {
      "text/html": [
       "<style>#sk-container-id-2 {color: black;background-color: white;}#sk-container-id-2 pre{padding: 0;}#sk-container-id-2 div.sk-toggleable {background-color: white;}#sk-container-id-2 label.sk-toggleable__label {cursor: pointer;display: block;width: 100%;margin-bottom: 0;padding: 0.3em;box-sizing: border-box;text-align: center;}#sk-container-id-2 label.sk-toggleable__label-arrow:before {content: \"▸\";float: left;margin-right: 0.25em;color: #696969;}#sk-container-id-2 label.sk-toggleable__label-arrow:hover:before {color: black;}#sk-container-id-2 div.sk-estimator:hover label.sk-toggleable__label-arrow:before {color: black;}#sk-container-id-2 div.sk-toggleable__content {max-height: 0;max-width: 0;overflow: hidden;text-align: left;background-color: #f0f8ff;}#sk-container-id-2 div.sk-toggleable__content pre {margin: 0.2em;color: black;border-radius: 0.25em;background-color: #f0f8ff;}#sk-container-id-2 input.sk-toggleable__control:checked~div.sk-toggleable__content {max-height: 200px;max-width: 100%;overflow: auto;}#sk-container-id-2 input.sk-toggleable__control:checked~label.sk-toggleable__label-arrow:before {content: \"▾\";}#sk-container-id-2 div.sk-estimator input.sk-toggleable__control:checked~label.sk-toggleable__label {background-color: #d4ebff;}#sk-container-id-2 div.sk-label input.sk-toggleable__control:checked~label.sk-toggleable__label {background-color: #d4ebff;}#sk-container-id-2 input.sk-hidden--visually {border: 0;clip: rect(1px 1px 1px 1px);clip: rect(1px, 1px, 1px, 1px);height: 1px;margin: -1px;overflow: hidden;padding: 0;position: absolute;width: 1px;}#sk-container-id-2 div.sk-estimator {font-family: monospace;background-color: #f0f8ff;border: 1px dotted black;border-radius: 0.25em;box-sizing: border-box;margin-bottom: 0.5em;}#sk-container-id-2 div.sk-estimator:hover {background-color: #d4ebff;}#sk-container-id-2 div.sk-parallel-item::after {content: \"\";width: 100%;border-bottom: 1px solid gray;flex-grow: 1;}#sk-container-id-2 div.sk-label:hover label.sk-toggleable__label {background-color: #d4ebff;}#sk-container-id-2 div.sk-serial::before {content: \"\";position: absolute;border-left: 1px solid gray;box-sizing: border-box;top: 0;bottom: 0;left: 50%;z-index: 0;}#sk-container-id-2 div.sk-serial {display: flex;flex-direction: column;align-items: center;background-color: white;padding-right: 0.2em;padding-left: 0.2em;position: relative;}#sk-container-id-2 div.sk-item {position: relative;z-index: 1;}#sk-container-id-2 div.sk-parallel {display: flex;align-items: stretch;justify-content: center;background-color: white;position: relative;}#sk-container-id-2 div.sk-item::before, #sk-container-id-2 div.sk-parallel-item::before {content: \"\";position: absolute;border-left: 1px solid gray;box-sizing: border-box;top: 0;bottom: 0;left: 50%;z-index: -1;}#sk-container-id-2 div.sk-parallel-item {display: flex;flex-direction: column;z-index: 1;position: relative;background-color: white;}#sk-container-id-2 div.sk-parallel-item:first-child::after {align-self: flex-end;width: 50%;}#sk-container-id-2 div.sk-parallel-item:last-child::after {align-self: flex-start;width: 50%;}#sk-container-id-2 div.sk-parallel-item:only-child::after {width: 0;}#sk-container-id-2 div.sk-dashed-wrapped {border: 1px dashed gray;margin: 0 0.4em 0.5em 0.4em;box-sizing: border-box;padding-bottom: 0.4em;background-color: white;}#sk-container-id-2 div.sk-label label {font-family: monospace;font-weight: bold;display: inline-block;line-height: 1.2em;}#sk-container-id-2 div.sk-label-container {text-align: center;}#sk-container-id-2 div.sk-container {/* jupyter's `normalize.less` sets `[hidden] { display: none; }` but bootstrap.min.css set `[hidden] { display: none !important; }` so we also need the `!important` here to be able to override the default hidden behavior on the sphinx rendered scikit-learn.org. See: https://github.com/scikit-learn/scikit-learn/issues/21755 */display: inline-block !important;position: relative;}#sk-container-id-2 div.sk-text-repr-fallback {display: none;}</style><div id=\"sk-container-id-2\" class=\"sk-top-container\"><div class=\"sk-text-repr-fallback\"><pre>LinearRegression()</pre><b>In a Jupyter environment, please rerun this cell to show the HTML representation or trust the notebook. <br />On GitHub, the HTML representation is unable to render, please try loading this page with nbviewer.org.</b></div><div class=\"sk-container\" hidden><div class=\"sk-item\"><div class=\"sk-estimator sk-toggleable\"><input class=\"sk-toggleable__control sk-hidden--visually\" id=\"sk-estimator-id-2\" type=\"checkbox\" checked><label for=\"sk-estimator-id-2\" class=\"sk-toggleable__label sk-toggleable__label-arrow\">LinearRegression</label><div class=\"sk-toggleable__content\"><pre>LinearRegression()</pre></div></div></div></div></div>"
      ],
      "text/plain": [
       "LinearRegression()"
      ]
     },
     "execution_count": 49,
     "metadata": {},
     "output_type": "execute_result"
    }
   ],
   "source": [
    "lm =LinearRegression()\n",
    "lm.fit(x_train, y_train)"
   ]
  },
  {
   "cell_type": "markdown",
   "id": "74349423",
   "metadata": {},
   "source": [
    "## Analyze the Predictions"
   ]
  },
  {
   "cell_type": "code",
   "execution_count": 50,
   "id": "71a584ea",
   "metadata": {},
   "outputs": [
    {
     "data": {
      "text/plain": [
       "array([7951.76030078, 1617.13803937, 7534.39354601, ..., 7383.5112151 ,\n",
       "       1890.44996076, 1799.34598697])"
      ]
     },
     "execution_count": 50,
     "metadata": {},
     "output_type": "execute_result"
    }
   ],
   "source": [
    "predictions = lm.predict(x_test)\n",
    "predictions"
   ]
  },
  {
   "cell_type": "code",
   "execution_count": 51,
   "id": "7e462aa8",
   "metadata": {},
   "outputs": [
    {
     "data": {
      "text/plain": [
       "<matplotlib.collections.PathCollection at 0x284201db0>"
      ]
     },
     "execution_count": 51,
     "metadata": {},
     "output_type": "execute_result"
    },
    {
     "data": {
      "image/png": "[encoded data removed]",
      "text/plain": [
       "<Figure size 640x480 with 1 Axes>"
      ]
     },
     "metadata": {},
     "output_type": "display_data"
    }
   ],
   "source": [
    "plt.scatter(y_test, predictions)  # The data comes in steps. "
   ]
  },
  {
   "cell_type": "markdown",
   "id": "f4b8340b",
   "metadata": {},
   "source": [
    "## Print an Accuracy Score"
   ]
  },
  {
   "cell_type": "code",
   "execution_count": 52,
   "id": "b199abb2",
   "metadata": {},
   "outputs": [
    {
     "name": "stdout",
     "output_type": "stream",
     "text": [
      "Score: 0.732965331476845\n"
     ]
    }
   ],
   "source": [
    "print(\"Score:\", lm.score(x_test, y_test))"
   ]
  },
  {
   "cell_type": "markdown",
   "id": "1a75724a",
   "metadata": {},
   "source": [
    "### This model is 73% accurate based on the score. "
   ]
  },
  {
   "cell_type": "markdown",
   "id": "e09c076f",
   "metadata": {},
   "source": [
    "## Final check, examining the error rates for the Model Fit"
   ]
  },
  {
   "cell_type": "code",
   "execution_count": 53,
   "id": "c56df015",
   "metadata": {},
   "outputs": [
    {
     "data": {
      "text/plain": [
       "1489.237685481356"
      ]
     },
     "execution_count": 53,
     "metadata": {},
     "output_type": "execute_result"
    }
   ],
   "source": [
    "metrics.mean_absolute_error(y_test, predictions)   \n",
    "\n",
    "# This is super high! Seems like this is realated to the steps in the plot\n"
   ]
  },
  {
   "cell_type": "code",
   "execution_count": 54,
   "id": "dba4fee7",
   "metadata": {},
   "outputs": [
    {
     "data": {
      "text/plain": [
       "4217171.310056336"
      ]
     },
     "execution_count": 54,
     "metadata": {},
     "output_type": "execute_result"
    }
   ],
   "source": [
    "metrics.mean_squared_error(y_test, predictions)  # Obviously higher"
   ]
  },
  {
   "cell_type": "code",
   "execution_count": 55,
   "id": "7b8281a8",
   "metadata": {},
   "outputs": [
    {
     "data": {
      "text/plain": [
       "2053.5752506437"
      ]
     },
     "execution_count": 55,
     "metadata": {},
     "output_type": "execute_result"
    }
   ],
   "source": [
    "np.sqrt(metrics.mean_squared_error(y_test, predictions))  # Still high"
   ]
  },
  {
   "cell_type": "markdown",
   "id": "fceca17c",
   "metadata": {},
   "source": [
    "## k-Fold Cross Validation, because I feel like there is more I should do..."
   ]
  },
  {
   "cell_type": "code",
   "execution_count": 57,
   "id": "dcd7a41d",
   "metadata": {},
   "outputs": [],
   "source": [
    "from sklearn.model_selection import KFold\n",
    "from sklearn.model_selection import cross_val_score\n",
    "from statistics import mean\n",
    "from numpy import std"
   ]
  },
  {
   "cell_type": "code",
   "execution_count": 58,
   "id": "38a5f8d9",
   "metadata": {},
   "outputs": [],
   "source": [
    "cv = KFold(n_splits = 10, random_state = 1, shuffle = True)"
   ]
  },
  {
   "cell_type": "code",
   "execution_count": 59,
   "id": "f1be323e",
   "metadata": {},
   "outputs": [],
   "source": [
    "scores = cross_val_score(lm, x, y, scoring = 'neg_mean_absolute_error',\n",
    "                        cv=cv, n_jobs = -1)"
   ]
  },
  {
   "cell_type": "code",
   "execution_count": 60,
   "id": "b60c578a",
   "metadata": {},
   "outputs": [
    {
     "name": "stdout",
     "output_type": "stream",
     "text": [
      "Accuracy: -1497.862 (14.110)\n"
     ]
    }
   ],
   "source": [
    "print('Accuracy: %.3f (%.3f)' % (mean(scores), std(scores)))   \n",
    "### Still seems huge, and like this is maybe not what I want??"
   ]
  },
  {
   "cell_type": "code",
   "execution_count": 62,
   "id": "497ee964",
   "metadata": {},
   "outputs": [
    {
     "name": "stdout",
     "output_type": "stream",
     "text": [
      "train: [    0     1     2 ... 53937 53938 53939], test: [   10    28    44 ... 53889 53902 53913]\n",
      "train: [    0     1     2 ... 53937 53938 53939], test: [   12    23    30 ... 53905 53906 53911]\n",
      "train: [    0     1     4 ... 53937 53938 53939], test: [    2     3    11 ... 53932 53934 53935]\n",
      "train: [    0     1     2 ... 53936 53938 53939], test: [    8    19    21 ... 53890 53916 53937]\n",
      "train: [    0     1     2 ... 53937 53938 53939], test: [   26    35    36 ... 53878 53922 53933]\n",
      "train: [    1     2     3 ... 53937 53938 53939], test: [    0    29    31 ... 53910 53915 53936]\n",
      "train: [    0     1     2 ... 53937 53938 53939], test: [    4     5     6 ... 53925 53927 53931]\n",
      "train: [    0     2     3 ... 53937 53938 53939], test: [    1    50    60 ... 53914 53921 53930]\n",
      "train: [    0     1     2 ... 53936 53937 53938], test: [    9    39    48 ... 53926 53928 53939]\n",
      "train: [    0     1     2 ... 53936 53937 53939], test: [   14    15    18 ... 53923 53929 53938]\n"
     ]
    }
   ],
   "source": [
    "kfold = KFold(n_splits = 10, shuffle =True, random_state= 1)\n",
    "for train, test in kfold.split(x,y):\n",
    "    print('train: %s, test: %s' % (train,test))   "
   ]
  },
  {
   "cell_type": "code",
   "execution_count": 64,
   "id": "3ef4bf29",
   "metadata": {},
   "outputs": [
    {
     "name": "stdout",
     "output_type": "stream",
     "text": [
      "[0.73840694 0.7246482  0.73720977 0.71449035 0.72030231 0.74131467\n",
      " 0.72680006 0.73553382 0.73823804 0.73012683]\n"
     ]
    }
   ],
   "source": [
    "print(cross_val_score(lm, x, y, cv = 10))"
   ]
  },
  {
   "cell_type": "code",
   "execution_count": null,
   "id": "aab677d3",
   "metadata": {},
   "outputs": [],
   "source": [
    "## It looks like all trained models were accurate 70-something percent of the time. \n",
    "## This model has been throroughly tested and I feel secure in saying I have created a rigorous model that has\n",
    "### stood up to some serious testing. "
   ]
  }
 ],
 "metadata": {
  "kernelspec": {
   "display_name": "Python 3 (ipykernel)",
   "language": "python",
   "name": "python3"
  },
  "language_info": {
   "codemirror_mode": {
    "name": "ipython",
    "version": 3
   },
   "file_extension": ".py",
   "mimetype": "text/x-python",
   "name": "python",
   "nbconvert_exporter": "python",
   "pygments_lexer": "ipython3",
   "version": "3.10.9"
  }
 },
 "nbformat": 4,
 "nbformat_minor": 5
}
